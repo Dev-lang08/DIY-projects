{
 "cells": [
  {
   "cell_type": "code",
   "execution_count": 1,
   "id": "ce68acc3",
   "metadata": {},
   "outputs": [
    {
     "name": "stdout",
     "output_type": "stream",
     "text": [
      "Say Something : \n",
      "You Said : hello this is demo for Python text to audio and audio to text program\n"
     ]
    }
   ],
   "source": [
    "import speech_recognition as sr\n",
    "import pyttsx3\n",
    "\n",
    "def SpeakText(command):\n",
    "    engine = pyttsx3.init()\n",
    "    engine.say(command) \n",
    "    engine.runAndWait()\n",
    "\n",
    "a=sr.Recognizer()# this is used to initialyze the recognizer\n",
    "with sr.Microphone() as source: # use the microphone as source for input.\n",
    "    print('Say Something : ')\n",
    "    audio=a.listen(source)# listens to the unput we give\n",
    "    try:\n",
    "        text = a.recognize_google(audio)# Using google to recognize audio and convert it to text\n",
    "        print(\"You Said : {}\".format(text))\n",
    "        SpeakText(text)\n",
    "    except: # exception handling in case some error occurs\n",
    "        print('Sorry speak again')"
   ]
  },
  {
   "cell_type": "code",
   "execution_count": null,
   "id": "a24ce461",
   "metadata": {},
   "outputs": [],
   "source": []
  }
 ],
 "metadata": {
  "kernelspec": {
   "display_name": "Python 3",
   "language": "python",
   "name": "python3"
  },
  "language_info": {
   "codemirror_mode": {
    "name": "ipython",
    "version": 3
   },
   "file_extension": ".py",
   "mimetype": "text/x-python",
   "name": "python",
   "nbconvert_exporter": "python",
   "pygments_lexer": "ipython3",
   "version": "3.8.8"
  }
 },
 "nbformat": 4,
 "nbformat_minor": 5
}
